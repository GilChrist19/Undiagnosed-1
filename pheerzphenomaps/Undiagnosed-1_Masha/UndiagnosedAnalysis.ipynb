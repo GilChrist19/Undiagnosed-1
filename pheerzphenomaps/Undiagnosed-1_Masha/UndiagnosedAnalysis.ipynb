{
 "cells": [
  {
   "cell_type": "code",
   "execution_count": null,
   "metadata": {},
   "outputs": [],
   "source": []
  },
  {
   "cell_type": "code",
   "execution_count": null,
   "metadata": {},
   "outputs": [],
   "source": [
    "import vcf\n",
    "\n",
    "# Reading the data\n",
    "vcf_reader = vcf.Reader(open('Local/WGSUndiagnosed6619-CommonVariants-3.vcf', 'r'))\n",
    "\n",
    "geneNameList = []\n",
    "\n",
    "#generate a list of gene names \n",
    "i = 0\n",
    "while i < 100:\n",
    "    i +=1\n",
    "    try:\n",
    "        curr_record = next(vcf_reader)\n",
    "        print(curr_record, curr_record.INFO)\n",
    "        if 'GENE_SYMBOL' in curr_record.INFO:\n",
    "            geneNameList.append(curr_record.INFO['GENE_SYMBOL'][0])\n",
    "    except:\n",
    "        pass\n",
    "\n",
    "\n",
    "geneNameList = set(geneNameList)\n",
    "\n",
    "with open('geneList.txt', 'w') as outputFile:\n",
    "    for geneName in geneNameList:\n",
    "        outputFile.write(geneName+'\\n')\n",
    "\n",
    "outputFile.close()\n",
    "    \n",
    "# REF\tReference allele\tThe reference allele is whatever is found in the reference genome. It is not necessarily the major allele.\n",
    "# ALT\tAlternative allele\tThe alternative allele is the allele found in the sample you are studying.\n"
   ]
  },
  {
   "cell_type": "code",
   "execution_count": 24,
   "metadata": {},
   "outputs": [
    {
     "name": "stdout",
     "output_type": "stream",
     "text": [
      "['ID', 'Gene Name', 'Species', 'BBID', 'BIOCARTA', 'COG_ONTOLOGY', 'GOTERM_BP_DIRECT', 'GOTERM_CC_DIRECT', 'GOTERM_MF_DIRECT', 'INTERPRO', 'KEGG_PATHWAY', 'OMIM_DISEASE', 'PIR_SUPERFAMILY', 'SMART', 'UP_KEYWORDS', 'UP_SEQ_FEATURE']\n"
     ]
    }
   ],
   "source": [
    "#filtering for KEGG \n",
    "#import david-annotated file\n",
    "\n",
    "#get kegg info : http://rest.kegg.jp/get/hsa00500/\n",
    "\n",
    "def return_list():\n",
    "    return []\n",
    "\n",
    "import csv\n",
    "from collections import defaultdict\n",
    "\n",
    "# Reading the data\n",
    "csv_reader = csv.reader(open('Local/tr_589B50AD260D1560029031835.csv', 'r'))\n",
    "#ignore first line\n",
    "firstLine = next(csv_reader)\n",
    "print(firstLine)\n",
    "\n",
    "geneDict = defaultdict(return_list)\n",
    "\n",
    "for line in csv_reader:\n",
    "    geneName = line[0]\n",
    "#     print(\"gene name:\",line[0])\n",
    "    kegg_pathway = line[10]\n",
    "#     print(\"kegg_pathway:\", kegg_pathway)\n",
    "    for pathway in kegg_pathway.split(','):\n",
    "        if not pathway.strip():\n",
    "            continue\n",
    "        pathwayNum = pathway.split(':')[0][-5:]\n",
    "        \n",
    "        geneDict[pathwayNum].append(geneName)\n",
    "\n",
    "with open('keggGeneMapping.txt', 'w') as outputFile:\n",
    "    for key, value in geneDict.items():\n",
    "        outputFile.write(key+'\\t')\n",
    "        for gene in value:\n",
    "            outputFile.write(gene+'\\t')\n",
    "        outputFile.write('\\n')\n",
    "\n",
    "outputFile.close()\n",
    "    \n"
   ]
  },
  {
   "cell_type": "code",
   "execution_count": null,
   "metadata": {},
   "outputs": [],
   "source": []
  }
 ],
 "metadata": {
  "kernelspec": {
   "display_name": "Python (biobasics)",
   "language": "python",
   "name": "biobasics"
  },
  "language_info": {
   "codemirror_mode": {
    "name": "ipython",
    "version": 3
   },
   "file_extension": ".py",
   "mimetype": "text/x-python",
   "name": "python",
   "nbconvert_exporter": "python",
   "pygments_lexer": "ipython3",
   "version": "3.7.3"
  }
 },
 "nbformat": 4,
 "nbformat_minor": 2
}
